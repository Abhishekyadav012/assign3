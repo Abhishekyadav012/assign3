{
 "cells": [
  {
   "cell_type": "raw",
   "id": "76fc97ad-ceab-47db-a162-db889779e52d",
   "metadata": {},
   "source": [
    "WHICH KEYWORD IS USED TO CREATE A FUNCTION? CREATE A FUNCTION TO RETURN A LIST ODD NUMBERS IN THE RANNGE OF 1 TO 25"
   ]
  },
  {
   "cell_type": "code",
   "execution_count": null,
   "id": "6a2dc4ba-fe9c-4f64-9f88-0e3ace4a581b",
   "metadata": {},
   "outputs": [],
   "source": [
    "FUNCTION CREATE BY THE HELP OF def KEYWORD"
   ]
  },
  {
   "cell_type": "code",
   "execution_count": 2,
   "id": "99f812d2-7086-4853-a4d3-00c6c2efa729",
   "metadata": {},
   "outputs": [],
   "source": [
    "def odd():\n",
    "    for i in range(1,25,2):\n",
    "        print(i)"
   ]
  },
  {
   "cell_type": "code",
   "execution_count": 3,
   "id": "1b965746-5ecd-4b53-94ca-082d6713c220",
   "metadata": {},
   "outputs": [
    {
     "name": "stdout",
     "output_type": "stream",
     "text": [
      "1\n",
      "3\n",
      "5\n",
      "7\n",
      "9\n",
      "11\n",
      "13\n",
      "15\n",
      "17\n",
      "19\n",
      "21\n",
      "23\n"
     ]
    }
   ],
   "source": [
    "odd()"
   ]
  },
  {
   "cell_type": "markdown",
   "id": "73556e84-7cc0-4110-9180-39a267075921",
   "metadata": {},
   "source": [
    "WHY *args and **kwargs is used in some function ?create a function each for *args and **kwargs to demonstrate their use."
   ]
  },
  {
   "cell_type": "code",
   "execution_count": null,
   "id": "83b03901-5e43-4afd-9078-0e47a25838f5",
   "metadata": {},
   "outputs": [],
   "source": [
    "#*args is used in function for take any number of arguments by the user"
   ]
  },
  {
   "cell_type": "code",
   "execution_count": 4,
   "id": "b7d78dc2-b03f-4e6e-b920-3a5e34d13afa",
   "metadata": {},
   "outputs": [],
   "source": [
    "#**kwargs is used to function for take input in the key value pair"
   ]
  },
  {
   "cell_type": "code",
   "execution_count": 8,
   "id": "85a0979e-373e-49cf-bba0-54d9c5939d33",
   "metadata": {},
   "outputs": [],
   "source": [
    "def test(*args):\n",
    "    return args"
   ]
  },
  {
   "cell_type": "code",
   "execution_count": 9,
   "id": "d0182ac2-eb7c-453e-bbce-6dd30ddc0f04",
   "metadata": {},
   "outputs": [
    {
     "name": "stdout",
     "output_type": "stream",
     "text": [
      "(10, 20)\n"
     ]
    }
   ],
   "source": [
    "d=test(10,20)\n",
    "print(d)"
   ]
  },
  {
   "cell_type": "code",
   "execution_count": 11,
   "id": "1b1f7814-9eb1-4303-95f9-c69c2008d0a4",
   "metadata": {},
   "outputs": [],
   "source": [
    "def test1(*args):\n",
    "    a,b=args\n",
    "    return a+b"
   ]
  },
  {
   "cell_type": "code",
   "execution_count": 13,
   "id": "a23a9b74-2bb8-4615-b08e-40211754c109",
   "metadata": {},
   "outputs": [
    {
     "name": "stdout",
     "output_type": "stream",
     "text": [
      "35\n"
     ]
    }
   ],
   "source": [
    "x=test1(12,23)\n",
    "print(x)"
   ]
  },
  {
   "cell_type": "code",
   "execution_count": 15,
   "id": "6adf0dd7-ab15-4546-b71c-676b22224151",
   "metadata": {},
   "outputs": [
    {
     "name": "stdout",
     "output_type": "stream",
     "text": [
      "(10, 'abhi', [10, 20, 34], 10.6, True)\n"
     ]
    }
   ],
   "source": [
    "x=test(10,'abhi',[10,20,34],10.6,True)\n",
    "print(x)"
   ]
  },
  {
   "cell_type": "code",
   "execution_count": 16,
   "id": "94521ad8-e48e-4c60-b3f1-87ba1f519ae9",
   "metadata": {},
   "outputs": [
    {
     "data": {
      "text/plain": [
       "tuple"
      ]
     },
     "execution_count": 16,
     "metadata": {},
     "output_type": "execute_result"
    }
   ],
   "source": [
    "type(x)"
   ]
  },
  {
   "cell_type": "code",
   "execution_count": 21,
   "id": "348a2d60-f69c-49ae-9f02-5efaf6ca2306",
   "metadata": {},
   "outputs": [],
   "source": [
    "def test3(**kwargs):\n",
    "    print(kwargs)"
   ]
  },
  {
   "cell_type": "code",
   "execution_count": 22,
   "id": "cee2118a-f1d9-434a-b72f-4e532dc720f6",
   "metadata": {},
   "outputs": [
    {
     "name": "stdout",
     "output_type": "stream",
     "text": [
      "{'a': 'abhi', 'b': 'manish'}\n"
     ]
    }
   ],
   "source": [
    "test3(a='abhi',b='manish')"
   ]
  },
  {
   "cell_type": "markdown",
   "id": "0966edc3-ba0e-4d96-83d9-f8ca927927d0",
   "metadata": {},
   "source": [
    "What is an iterator in python? Name the method used to intialise the iteratorobject and the method used for iteration .Use these methods to print\n",
    "the first five elements of the given list [2,4,6,8,10,12,14,16,,18,20]."
   ]
  },
  {
   "cell_type": "code",
   "execution_count": 23,
   "id": "eb5087b1-ddf7-4029-b1d6-ce420d8e0528",
   "metadata": {
    "collapsed": true,
    "jupyter": {
     "outputs_hidden": true
    },
    "tags": []
   },
   "outputs": [
    {
     "ename": "SyntaxError",
     "evalue": "invalid syntax (187699559.py, line 1)",
     "output_type": "error",
     "traceback": [
      "\u001b[0;36m  Cell \u001b[0;32mIn[23], line 1\u001b[0;36m\u001b[0m\n\u001b[0;31m    AN ITERATOR IS AN OBJECT THAT CONTAINS A COUNTABLE NUMBER OF VALUES\u001b[0m\n\u001b[0m       ^\u001b[0m\n\u001b[0;31mSyntaxError\u001b[0m\u001b[0;31m:\u001b[0m invalid syntax\n"
     ]
    }
   ],
   "source": [
    "AN ITERATOR IS AN OBJECT THAT CONTAINS A COUNTABLE NUMBER OF VALUES"
   ]
  },
  {
   "cell_type": "code",
   "execution_count": 54,
   "id": "5335eeec-9625-4b53-8943-9eddb88093a3",
   "metadata": {
    "tags": []
   },
   "outputs": [],
   "source": [
    " l=[2,4,6,8,10,12,14,16,18,20]\n",
    "x=iter(l)"
   ]
  },
  {
   "cell_type": "code",
   "execution_count": 55,
   "id": "74c18cb6-f95b-49bd-9bed-a79a69ea67f5",
   "metadata": {},
   "outputs": [
    {
     "data": {
      "text/plain": [
       "2"
      ]
     },
     "execution_count": 55,
     "metadata": {},
     "output_type": "execute_result"
    }
   ],
   "source": [
    "next(x)"
   ]
  },
  {
   "cell_type": "code",
   "execution_count": 56,
   "id": "5e50eb81-d386-4890-a972-f8f284f8c3ab",
   "metadata": {},
   "outputs": [
    {
     "data": {
      "text/plain": [
       "4"
      ]
     },
     "execution_count": 56,
     "metadata": {},
     "output_type": "execute_result"
    }
   ],
   "source": [
    "next(x)"
   ]
  },
  {
   "cell_type": "code",
   "execution_count": 57,
   "id": "63e99310-f734-489e-8769-4421c788d16c",
   "metadata": {},
   "outputs": [
    {
     "data": {
      "text/plain": [
       "6"
      ]
     },
     "execution_count": 57,
     "metadata": {},
     "output_type": "execute_result"
    }
   ],
   "source": [
    "next(x)"
   ]
  },
  {
   "cell_type": "code",
   "execution_count": 58,
   "id": "7084b995-2e7f-4031-857a-cb71e33f475f",
   "metadata": {},
   "outputs": [
    {
     "data": {
      "text/plain": [
       "8"
      ]
     },
     "execution_count": 58,
     "metadata": {},
     "output_type": "execute_result"
    }
   ],
   "source": [
    "next(x)"
   ]
  },
  {
   "cell_type": "code",
   "execution_count": 59,
   "id": "e7782947-9d1b-4348-8300-5ef9bbf44120",
   "metadata": {},
   "outputs": [
    {
     "data": {
      "text/plain": [
       "10"
      ]
     },
     "execution_count": 59,
     "metadata": {},
     "output_type": "execute_result"
    }
   ],
   "source": [
    "next(x)"
   ]
  },
  {
   "cell_type": "markdown",
   "id": "578b55bd-c7a9-4cfa-b469-a47eb1d2fcc0",
   "metadata": {},
   "source": [
    "What is generator function in python? why yield keyword is used? Give an example of generator function"
   ]
  },
  {
   "cell_type": "code",
   "execution_count": null,
   "id": "a3158731-5320-4e03-801a-c505394a3cbc",
   "metadata": {},
   "outputs": [],
   "source": [
    "IN PYTHON, GENERATOR FUNCTION IS RETURN OUTPUT ONE BY ONE.\n",
    "YIELD KEYWORD SAME AS RETURN STATEMENT RETURNING THE VALUE."
   ]
  },
  {
   "cell_type": "code",
   "execution_count": 83,
   "id": "d89208c9-08c4-4a06-9f15-2bad0477e7a4",
   "metadata": {},
   "outputs": [],
   "source": [
    "def fib():\n",
    "    a,b=0,1\n",
    "    while True:\n",
    "        yield a\n",
    "        a,b=b,a+b"
   ]
  },
  {
   "cell_type": "code",
   "execution_count": 84,
   "id": "26a7806b-cdfd-42b4-9fae-9f38b4c75e3c",
   "metadata": {},
   "outputs": [],
   "source": [
    "c=fib()"
   ]
  },
  {
   "cell_type": "code",
   "execution_count": 85,
   "id": "780227f1-8219-4369-be84-71728ca7d808",
   "metadata": {},
   "outputs": [
    {
     "name": "stdout",
     "output_type": "stream",
     "text": [
      "0\n",
      "1\n",
      "1\n",
      "2\n",
      "3\n",
      "5\n",
      "8\n",
      "13\n",
      "21\n",
      "34\n"
     ]
    }
   ],
   "source": [
    "for i in range(10):\n",
    "    print(next(c))"
   ]
  },
  {
   "cell_type": "markdown",
   "id": "28711a9d-1c03-4db2-9802-9a1ede9c38f9",
   "metadata": {},
   "source": [
    "Create a generator function for prime number less than 1000.Use the next() method to print the first 20 prime number"
   ]
  },
  {
   "cell_type": "code",
   "execution_count": 1,
   "id": "f1581c68-7e70-42d6-acef-2c64a73d8e29",
   "metadata": {},
   "outputs": [],
   "source": [
    "def prime():\n",
    "    l1=[]\n",
    "    num=2\n",
    "    while num<1000:\n",
    "        is_prime=True\n",
    "        for a in l1:\n",
    "            if num%a==0:\n",
    "                is_prime=False\n",
    "                break\n",
    "        if is_prime:\n",
    "            l1.append(num)\n",
    "            yield num\n",
    "        num += 1\n",
    "        "
   ]
  },
  {
   "cell_type": "code",
   "execution_count": 2,
   "id": "e654d623-de54-478a-a7e3-9ad3d48d958a",
   "metadata": {},
   "outputs": [],
   "source": [
    "x=prime()"
   ]
  },
  {
   "cell_type": "code",
   "execution_count": 3,
   "id": "8c57a4bc-4902-45e5-afca-30d4da045682",
   "metadata": {},
   "outputs": [
    {
     "name": "stdout",
     "output_type": "stream",
     "text": [
      "2\n",
      "3\n",
      "5\n",
      "7\n",
      "11\n",
      "13\n",
      "17\n",
      "19\n",
      "23\n",
      "29\n",
      "31\n",
      "37\n",
      "41\n",
      "43\n",
      "47\n",
      "53\n",
      "59\n",
      "61\n",
      "67\n",
      "71\n"
     ]
    }
   ],
   "source": [
    "for i in range(20):\n",
    "    a=next(x)\n",
    "    print(a)\n",
    "    "
   ]
  },
  {
   "cell_type": "markdown",
   "id": "18920628-1088-4de0-9176-9f84d57960b1",
   "metadata": {},
   "source": [
    "Write a python program to print the first 10 Fibonacci number using while loop"
   ]
  },
  {
   "cell_type": "code",
   "execution_count": null,
   "id": "21f00807-b6ef-4f1c-96f0-4550bae16cd9",
   "metadata": {},
   "outputs": [],
   "source": [
    "i,a,b=1,0,1\n",
    "while i<=10:\n",
    "    print(a)\n",
    "    a,b=b,a+b\n",
    "    i=i+1"
   ]
  },
  {
   "cell_type": "markdown",
   "id": "62bb3a5b-c1b2-48fa-98bc-3bcd6e3e09a6",
   "metadata": {},
   "source": [
    "Write s List Comprehension to itrate through the given string 'pwskills'."
   ]
  },
  {
   "cell_type": "code",
   "execution_count": 8,
   "id": "7f923cff-15c5-407a-b447-6d5f9d42eede",
   "metadata": {},
   "outputs": [
    {
     "data": {
      "text/plain": [
       "['P', 'W', 'S', 'K', 'I', 'L', 'L', 'S']"
      ]
     },
     "execution_count": 8,
     "metadata": {},
     "output_type": "execute_result"
    }
   ],
   "source": [
    "s='pwskills'\n",
    "list(map(lambda s:s.upper(),s))"
   ]
  },
  {
   "cell_type": "markdown",
   "id": "77d43080-7851-4d51-8b25-a6b5df0c65b5",
   "metadata": {},
   "source": [
    "Write a python programto check whether a given number is palindrome or not using while loop."
   ]
  },
  {
   "cell_type": "code",
   "execution_count": 2,
   "id": "9ef741b1-2afb-439c-89d3-2ddc217ca6b7",
   "metadata": {},
   "outputs": [
    {
     "name": "stdin",
     "output_type": "stream",
     "text": [
      "Enter a Number 111\n"
     ]
    },
    {
     "name": "stdout",
     "output_type": "stream",
     "text": [
      "it is palindrome number\n"
     ]
    }
   ],
   "source": [
    "n=int(input(\"Enter a Number\"))\n",
    "r=0\n",
    "x=n\n",
    "while n!=0:\n",
    "    d=n%10\n",
    "    r=r*10+d\n",
    "    n=n//10\n",
    "if x==r:\n",
    "    print(\"it is palindrome number\")\n",
    "else:\n",
    "    print(\"It is not a palindrome\")\n",
    "    "
   ]
  },
  {
   "cell_type": "markdown",
   "id": "066bb6a3-768b-47df-b669-98a4888baa80",
   "metadata": {},
   "source": [
    "Write a code to print odd number s from 1 to 100 using list comprehension"
   ]
  },
  {
   "cell_type": "code",
   "execution_count": 3,
   "id": "6f6c6dda-c010-4dcc-9d7f-7f82d550aee4",
   "metadata": {},
   "outputs": [
    {
     "name": "stdout",
     "output_type": "stream",
     "text": [
      "[1, 3, 5, 7, 9, 11, 13, 15, 17, 19, 21, 23, 25, 27, 29, 31, 33, 35, 37, 39, 41, 43, 45, 47, 49, 51, 53, 55, 57, 59, 61, 63, 65, 67, 69, 71, 73, 75, 77, 79, 81, 83, 85, 87, 89, 91, 93, 95, 97, 99]\n"
     ]
    }
   ],
   "source": [
    "n=1\n",
    "l1=[]\n",
    "while n<=100:\n",
    "    if n%2!=0:\n",
    "        l1.append(n)\n",
    "    n=n+1\n",
    "print(l1)"
   ]
  },
  {
   "cell_type": "code",
   "execution_count": null,
   "id": "7314f5ce-0c68-431f-ac9a-fa9a62675e8f",
   "metadata": {},
   "outputs": [],
   "source": []
  }
 ],
 "metadata": {
  "kernelspec": {
   "display_name": "Python 3 (ipykernel)",
   "language": "python",
   "name": "python3"
  },
  "language_info": {
   "codemirror_mode": {
    "name": "ipython",
    "version": 3
   },
   "file_extension": ".py",
   "mimetype": "text/x-python",
   "name": "python",
   "nbconvert_exporter": "python",
   "pygments_lexer": "ipython3",
   "version": "3.10.8"
  }
 },
 "nbformat": 4,
 "nbformat_minor": 5
}
